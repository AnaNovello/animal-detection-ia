{
  "cells": [
    {
      "cell_type": "code",
      "execution_count": null,
      "metadata": {
        "id": "hpZnPQhD04ds"
      },
      "outputs": [],
      "source": [
        "import pathlib\n",
        "import tensorflow as tf\n",
        "from tensorflow.keras.applications import EfficientNetV2L, MobileNetV2, ResNet50, VGG16, Xception\n",
        "from tensorflow.keras import layers, Model\n",
        "from tensorflow.keras.callbacks import ModelCheckpoint\n",
        "import matplotlib.pyplot as plt\n",
        "import numpy as np\n",
        "import os\n",
        "from keras.preprocessing.image import ImageDataGenerator"
      ]
    },
    {
      "cell_type": "code",
      "execution_count": null,
      "metadata": {
        "colab": {
          "base_uri": "https://localhost:8080/"
        },
        "id": "naCuH7xF1rm5",
        "outputId": "5adf5dd8-17ec-46a4-a045-902ccca0d1ec"
      },
      "outputs": [
        {
          "output_type": "stream",
          "name": "stdout",
          "text": [
            "Mounted at /content/drive/\n"
          ]
        }
      ],
      "source": [
        "from google.colab import drive\n",
        "drive.mount('/content/drive/')"
      ]
    },
    {
      "cell_type": "code",
      "execution_count": null,
      "metadata": {
        "id": "vW6iXy6J1s6N"
      },
      "outputs": [],
      "source": [
        "batch_size = 32\n",
        "img_width = 224\n",
        "img_height = 224\n",
        "epochs = 10"
      ]
    },
    {
      "cell_type": "code",
      "execution_count": null,
      "metadata": {
        "id": "0DepLmee1u6N"
      },
      "outputs": [],
      "source": [
        "data_dir = pathlib.Path('/content/drive/MyDrive/TEIA/Final/Escala de cinza/Treino/')\n",
        "#Modificar o diretório para realizar o treinamento em RGB:\n",
        "#data_dir = pathlib.Path('/content/drive/MyDrive/TEIA/Final/RGB/Treino/')"
      ]
    },
    {
      "cell_type": "code",
      "execution_count": null,
      "metadata": {
        "id": "NL86Ce_72dCD"
      },
      "outputs": [],
      "source": [
        "namecheckpoint = '/content/drive/MyDrive/TEIA/Final/Escala de cinza/models/.{epoch:02d}-{val_accuracy:.2f}.h5'\n",
        "#Modificar o caminho da criação do checkpoint para a base de dados em RGB:\n",
        "#namecheckpoint = '/content/drive/MyDrive/TEIA/Final/RGB/models/.{epoch:02d}-{val_accuracy:.2f}.h5'\n",
        "model_checkpoint_callback = ModelCheckpoint(namecheckpoint,\n",
        "    save_weights_only=False,\n",
        "    monitor='val_accuracy',\n",
        "    mode='max',\n",
        "    save_best_only=True,\n",
        " )"
      ]
    },
    {
      "cell_type": "code",
      "execution_count": null,
      "metadata": {
        "colab": {
          "base_uri": "https://localhost:8080/"
        },
        "id": "byd-LYY03o3l",
        "outputId": "f8d230bb-daac-4273-89ca-da2500148593"
      },
      "outputs": [
        {
          "output_type": "stream",
          "name": "stdout",
          "text": [
            "['Cachorro', 'Cobra', 'Gato', 'Onca']\n"
          ]
        }
      ],
      "source": [
        "classes = pathlib.Path(data_dir).glob('*')\n",
        "classes = [x for x in classes if x.is_dir()]\n",
        "classes = sorted([x.stem for x in classes])\n",
        "print(classes)"
      ]
    },
    {
      "cell_type": "code",
      "execution_count": null,
      "metadata": {
        "colab": {
          "base_uri": "https://localhost:8080/"
        },
        "id": "nz7niDO03pZK",
        "outputId": "753ae218-a9a0-438b-89d7-32ac4c63c5a6"
      },
      "outputs": [
        {
          "output_type": "stream",
          "name": "stdout",
          "text": [
            "Found 5116 files belonging to 4 classes.\n",
            "Using 4093 files for training.\n"
          ]
        }
      ],
      "source": [
        "dataset_treino = tf.keras.utils.image_dataset_from_directory(\n",
        "  data_dir,\n",
        "  validation_split=0.2,\n",
        "  subset=\"training\",\n",
        "  seed=42,\n",
        "  image_size=(img_height, img_width),\n",
        "  #Retirar o parâmetro 'color_mode' para trabalhar com base de dados em RGB:\n",
        "  color_mode='grayscale',\n",
        "  batch_size=batch_size)"
      ]
    },
    {
      "cell_type": "code",
      "execution_count": null,
      "metadata": {
        "colab": {
          "base_uri": "https://localhost:8080/"
        },
        "id": "fWBRzyGK30Tr",
        "outputId": "03290681-4b68-4b6e-e4fb-9836a0557ec2"
      },
      "outputs": [
        {
          "output_type": "stream",
          "name": "stdout",
          "text": [
            "Found 5116 files belonging to 4 classes.\n",
            "Using 1023 files for validation.\n"
          ]
        }
      ],
      "source": [
        "dataset_validacao = tf.keras.utils.image_dataset_from_directory(\n",
        "  data_dir,\n",
        "  validation_split=0.2,\n",
        "  subset=\"validation\",\n",
        "  seed=42,\n",
        "  image_size=(img_height, img_width),\n",
        "  #Retirar o parâmetro 'color_mode' para trabalhar com base de dados em RGB:\n",
        "  color_mode='grayscale',\n",
        "  batch_size=batch_size)"
      ]
    },
    {
      "cell_type": "code",
      "execution_count": null,
      "metadata": {
        "id": "PfFGdiWH0f4N"
      },
      "outputs": [],
      "source": [
        "A célula subsequente foi adicionada para que os modelos pré-treinados em padrão RGB pudessem ser utilizados com a base de dados em escala de cinza. Sua função é criar uma camada anterior ao treinamento para que a quantidade de canais identificados pelo modelo seja compatível.\n",
        "Para trabalhar com a base em RGB, é necessário apagar ou comentar esta célula."
      ],
      "source": [
        "img_input = tf.keras.layers.Input(shape=(img_height, img_width,1))\n",
        "img_conc = tf.keras.layers.Concatenate()([img_input, img_input, img_input])"
      ]
    },
    {
      "cell_type": "code",
      "execution_count": null,
      "metadata": {
        "id": "CYsQAAhg4Gh2"
      },
      "outputs": [],
      "source": [
        "pre_trained_model = Xception(include_top=False, weights='imagenet', input_shape=(img_height, img_width, 3), input_tensor=img_conc)\n"
      ]
    },
    {
      "cell_type": "markdown",
      "metadata": {
        "id": "GKkQjcFNJo25"
      }
    },
    {
      "cell_type": "code",
      "execution_count": null,
      "metadata": {
        "id": "lide4Ft64oF_"
      },
      "outputs": [],
      "source": [
        "for layer in pre_trained_model.layers:\n",
        "    layer.trainable = False"
      ]
    },
    {
      "cell_type": "code",
      "execution_count": null,
      "metadata": {
        "id": "5kF-LHoJ4qkK"
      },
      "outputs": [],
      "source": [
        "x = layers.Flatten()(pre_trained_model.output)\n",
        "x = layers.Dropout(0.5)(x)\n",
        "predictions = layers.Dense(len(classes), activation='softmax')(x)\n"
      ]
    },
    {
      "cell_type": "code",
      "execution_count": null,
      "metadata": {
        "id": "P3FTmVw95H9X"
      },
      "outputs": [],
      "source": [
        "model3 = Model(inputs=pre_trained_model.input, outputs=predictions)"
      ]
    },
    {
      "cell_type": "code",
      "execution_count": null,
      "metadata": {
        "id": "dKS86fbv5OND"
      },
      "outputs": [],
      "source": [
        "model3.compile(optimizer='adam', loss='sparse_categorical_crossentropy', metrics=['accuracy'])\n"
      ]
    },
    {
      "cell_type": "code",
      "execution_count": null,
      "metadata": {
        "colab": {
          "base_uri": "https://localhost:8080/"
        },
        "id": "VisnzEYv5Q7c",
        "outputId": "0882c596-21dc-46c7-e193-cb798608e609"
      },
      "outputs": [
        {
          "output_type": "stream",
          "name": "stdout",
          "text": [
            "Epoch 1/10\n",
            "128/128 [==============================] - 30s 208ms/step - loss: 40.5038 - accuracy: 0.5927 - val_loss: 23.0540 - val_accuracy: 0.6784\n",
            "Epoch 2/10\n",
            "128/128 [==============================] - 23s 177ms/step - loss: 29.9952 - accuracy: 0.6841 - val_loss: 41.4349 - val_accuracy: 0.7410\n",
            "Epoch 3/10\n",
            "128/128 [==============================] - 24s 180ms/step - loss: 21.9046 - accuracy: 0.7388 - val_loss: 22.5470 - val_accuracy: 0.7390\n",
            "Epoch 4/10\n",
            "128/128 [==============================] - 23s 175ms/step - loss: 20.4670 - accuracy: 0.7752 - val_loss: 26.8654 - val_accuracy: 0.6891\n",
            "Epoch 5/10\n",
            "128/128 [==============================] - 23s 176ms/step - loss: 20.5387 - accuracy: 0.7911 - val_loss: 24.7899 - val_accuracy: 0.7683\n",
            "Epoch 6/10\n",
            "128/128 [==============================] - 23s 175ms/step - loss: 14.7815 - accuracy: 0.8290 - val_loss: 28.4206 - val_accuracy: 0.6657\n",
            "Epoch 7/10\n",
            "128/128 [==============================] - 23s 172ms/step - loss: 19.0669 - accuracy: 0.8160 - val_loss: 25.6894 - val_accuracy: 0.7468\n",
            "Epoch 8/10\n",
            "128/128 [==============================] - 23s 175ms/step - loss: 16.6765 - accuracy: 0.8322 - val_loss: 23.7764 - val_accuracy: 0.7390\n",
            "Epoch 9/10\n",
            "128/128 [==============================] - 23s 175ms/step - loss: 13.3272 - accuracy: 0.8551 - val_loss: 20.5312 - val_accuracy: 0.8152\n",
            "Epoch 10/10\n",
            "128/128 [==============================] - 23s 171ms/step - loss: 11.9320 - accuracy: 0.8598 - val_loss: 26.6546 - val_accuracy: 0.7546\n"
          ]
        }
      ],
      "source": [
        "history = model3.fit(\n",
        "    dataset_treino,\n",
        "    validation_data=dataset_validacao,\n",
        "    epochs=epochs,\n",
        "    callbacks=[model_checkpoint_callback]\n",
        ")"
      ]
    },
    {
      "cell_type": "code",
      "execution_count": null,
      "metadata": {
        "id": "iDpAIcmTdDX-"
      },
      "outputs": [],
      "source": [
        "acc = history.history['accuracy']\n",
        "val_acc = history.history['val_accuracy']\n",
        "\n",
        "loss = history.history['loss']\n",
        "val_loss = history.history['val_loss']\n",
        "\n",
        "epochs_range = range(epochs)"
      ]
    },
    {
      "cell_type": "code",
      "execution_count": null,
      "metadata": {
        "colab": {
          "base_uri": "https://localhost:8080/",
          "height": 699
        },
        "id": "OfSJt3DvdKTP",
        "outputId": "b8eda4a2-d242-4a68-a1d4-5f421420f4a6"
      },
      "outputs": [
        {
          "output_type": "display_data",
          "data": {
            "text/plain": [
              "<Figure size 800x800 with 2 Axes>"
            ],
            "image/png": "[encoded data removed]"
          },
          "metadata": {}
        }
      ],
      "source": [
        "plt.figure(figsize=(8, 8))\n",
        "plt.subplot(1, 2, 1)\n",
        "plt.plot(epochs_range, acc, label='Training Accuracy')\n",
        "plt.plot(epochs_range, val_acc, label='Validation Accuracy')\n",
        "plt.legend(loc='lower right')\n",
        "plt.title('Training and Validation Accuracy')\n",
        "\n",
        "plt.subplot(1, 2, 2)\n",
        "plt.plot(epochs_range, loss, label='Training Loss')\n",
        "plt.plot(epochs_range, val_loss, label='Validation Loss')\n",
        "plt.legend(loc='upper right')\n",
        "plt.title('Training and Validation Loss')\n",
        "plt.show()"
      ]
    },
    {
      "cell_type": "code",
      "execution_count": null,
      "metadata": {
        "id": "hOiAc29fNIj9"
      },
      "outputs": [],
      "source": [
        "val_datagen = ImageDataGenerator()\n",
        "#Para trabalhar com a base de dados em RGB, modificar o diretório:\n",
        "#val_data_dir = \"/content/drive/MyDrive/TEIA/Final/RGB/Validacao/\"\n",
        "val_data_dir = \"/content/drive/MyDrive/TEIA/Final/Escala de cinza/Validacao\""
      ]
    },
    {
      "cell_type": "code",
      "execution_count": null,
      "metadata": {
        "colab": {
          "base_uri": "https://localhost:8080/"
        },
        "id": "WWlWKAK-NhSu",
        "outputId": "c5b3118c-75ed-4e35-ce68-732d4b4d97d6"
      },
      "outputs": [
        {
          "output_type": "stream",
          "name": "stdout",
          "text": [
            "Found 456 images belonging to 4 classes.\n"
          ]
        }
      ],
      "source": [
        "val_generator = val_datagen.flow_from_directory(\n",
        "    val_data_dir,\n",
        "    target_size=(img_height, img_width),\n",
        "    batch_size=batch_size,\n",
        "    class_mode='categorical',\n",
        "    shuffle=False,\n",
        "    #Retirar o parâmetro 'color_mode' para trabalhar com base de dados em RGB:\n",
        "    color_mode = 'grayscale'\n",
        ")"
      ]
    },
    {
      "cell_type": "code",
      "execution_count": null,
      "metadata": {
        "id": "p0Zrbj5INoJY"
      },
      "outputs": [],
      "source": [
        "class_labels = list(val_generator.class_indices.keys())"
      ]
    },
    {
      "cell_type": "code",
      "execution_count": null,
      "metadata": {
        "id": "mQmeSUvDNqc4"
      },
      "outputs": [],
      "source": [
        "num_images = len(val_generator.filenames)"
      ]
    },
    {
      "cell_type": "code",
      "execution_count": null,
      "metadata": {
        "id": "ov9mRgl2NqkW"
      },
      "outputs": [],
      "source": [
        "all_images = []\n",
        "all_true_labels = []"
      ]
    },
    {
      "cell_type": "code",
      "execution_count": null,
      "metadata": {
        "id": "KJ5VeC8HNuWF"
      },
      "outputs": [],
      "source": [
        "for i in range(num_images // batch_size):\n",
        "    images, true_labels = next(val_generator)\n",
        "    all_images.append(images)\n",
        "    all_true_labels.append(true_labels)"
      ]
    },
    {
      "cell_type": "code",
      "execution_count": null,
      "metadata": {
        "id": "uKJq78-QNxZz"
      },
      "outputs": [],
      "source": [
        "all_images = np.concatenate(all_images)\n",
        "all_true_labels = np.concatenate(all_true_labels)\n"
      ]
    },
    {
      "cell_type": "code",
      "execution_count": null,
      "metadata": {
        "colab": {
          "base_uri": "https://localhost:8080/"
        },
        "id": "_zU2iWH6NzSV",
        "outputId": "cb1c47a2-d2de-4215-a935-6d1e7190b757"
      },
      "outputs": [
        {
          "output_type": "stream",
          "name": "stdout",
          "text": [
            "14/14 [==============================] - 2s 129ms/step\n"
          ]
        }
      ],
      "source": [
        "predictions = model3.predict(all_images)"
      ]
    },
    {
      "cell_type": "code",
      "execution_count": null,
      "metadata": {
        "colab": {
          "base_uri": "https://localhost:8080/"
        },
        "id": "0kIs27YpN01V",
        "outputId": "56efc607-7307-47ee-df79-8c0416ea204d"
      },
      "outputs": [
        {
          "output_type": "stream",
          "name": "stdout",
          "text": [
            "Total number of images: 448\n",
            "['Cachorro', 'Cobra', 'Gato', 'Onca']\n"
          ]
        }
      ],
      "source": [
        "print(\"Total number of images:\", len(all_images))\n",
        "print(class_labels)"
      ]
    },
    {
      "cell_type": "code",
      "execution_count": null,
      "metadata": {
        "id": "-JqX8gGZPbVv"
      },
      "outputs": [],
      "source": [
        "predicted_labels = [class_labels[np.argmax(pred)] for pred in predictions]"
      ]
    },
    {
      "cell_type": "code",
      "execution_count": null,
      "metadata": {
        "id": "7RWozaGqPdVy"
      },
      "outputs": [],
      "source": [
        "labels_true = [class_labels[np.argmax(true)] for true in true_labels]"
      ]
    },
    {
      "cell_type": "code",
      "execution_count": null,
      "metadata": {
        "colab": {
          "base_uri": "https://localhost:8080/"
        },
        "id": "6xdqVRhBPdcr",
        "outputId": "6bb04d85-b1d4-4ac1-e12c-bcdcc4046dea"
      },
      "outputs": [
        {
          "output_type": "stream",
          "name": "stdout",
          "text": [
            "[0 1 0 0 1 0 2 1 0 0 0 0 0 0 0 0 0 0 1 0 1 1 0 1 0 1 1 1 1 1 1 2 0 0 0 2 0\n",
            " 1 0 0 0 2 0 1 1 1 0 1 1 0 0 1 3 0 0 3 1 0 1 1 0 0 0 1 0 0 0 0 1 0 1 0 1 0\n",
            " 1 1 1 0 1 1 0 0 0 0 0 1 1 0 1 1 1 0 0 0 1 1 0 0 0 0 0 1 0 1 1 1 1 1 1 1 1\n",
            " 0 1 1 1 1 0 1 1 1 1 1 0 3 1 0 1 0 1 1 1 1 1 1 1 1 3 1 1 1 1 1 1 1 1 1 1 1\n",
            " 1 1 1 1 1 1 1 1 1 1 1 1 1 1 1 1 1 1 1 1 1 1 1 1 1 1 0 1 1 3 1 0 3 1 1 1 1\n",
            " 0 1 3 3 1 1 1 1 1 2 1 1 1 0 1 1 1 1 1 1 1 1 1 1 1 1 1 1 0 1 1 1 1 0 1 1 1\n",
            " 1 0 0 1 1 1 1 1 1 1 1 1 1 1 1 1 1 1 1 1 1 1 1 0 1 3 1 1 1 1 1 1 1 1 1 0 1\n",
            " 0 3 1 3 1 1 1 1 0 1 1 1 1 1 3 1 1 1 0 1 1 1 1 1 1 0 1 1 1 1 1 1 2 1 1 0 1\n",
            " 1 1 1 1 1 1 1 0 0 1 1 1 1 1 1 1 3 1 1 1 1 0 0 0 0 1 0 1 0 1 1 0 3 0 0 1 1\n",
            " 1 1 2 0 2 1 2 0 1 2 0 0 1 1 1 0 0 0 0 0 2 1 1 0 1 1 1 1 0 2 0 0 1 0 0 0 1\n",
            " 1 0 1 1 2 0 0 1 0 1 0 1 0 0 2 2 0 0 0 1 0 1 0 1 1 1 3 0 0 0 1 0 2 0 2 1 0\n",
            " 1 0 0 0 0 1 2 2 0 1 1 3 1 1 3 3 1 3 1 3 1 1 0 1 1 3 1 1 1 3 1 1 1 1 1 1 3\n",
            " 1 2 3 1]\n"
          ]
        }
      ],
      "source": [
        "predicted_labels = np.argmax(predictions, axis=1)\n",
        "print(predicted_labels)"
      ]
    },
    {
      "cell_type": "code",
      "execution_count": null,
      "metadata": {
        "colab": {
          "base_uri": "https://localhost:8080/"
        },
        "id": "vcG3Jv4xPhc-",
        "outputId": "eb6eb532-1f6d-400e-d330-a83f4cba2f9f"
      },
      "outputs": [
        {
          "output_type": "stream",
          "name": "stdout",
          "text": [
            "[0 0 0 0 0 0 0 0 0 0 0 0 0 0 0 0 0 0 0 0 0 0 0 0 0 0 0 0 0 0 0 0 0 0 0 0 0\n",
            " 0 0 0 0 0 0 0 0 0 0 0 0 0 0 0 0 0 0 0 0 0 0 0 0 0 0 0 0 0 0 0 0 0 0 0 0 0\n",
            " 0 0 0 0 0 0 0 0 0 0 0 0 0 0 0 0 0 0 0 0 0 0 0 0 0 0 0 1 1 1 1 1 1 1 1 1 1\n",
            " 1 1 1 1 1 1 1 1 1 1 1 1 1 1 1 1 1 1 1 1 1 1 1 1 1 1 1 1 1 1 1 1 1 1 1 1 1\n",
            " 1 1 1 1 1 1 1 1 1 1 1 1 1 1 1 1 1 1 1 1 1 1 1 1 1 1 1 1 1 1 1 1 1 1 1 1 1\n",
            " 1 1 1 1 1 1 1 1 1 1 1 1 1 1 1 1 1 1 1 1 1 1 1 1 1 1 1 1 1 1 1 1 1 1 1 1 1\n",
            " 1 1 1 1 1 1 1 1 1 1 1 1 1 1 1 1 1 1 1 1 1 1 1 1 1 1 1 1 1 1 1 1 1 1 1 1 1\n",
            " 1 1 1 1 1 1 1 1 1 1 1 1 1 1 1 1 1 1 1 1 1 1 1 1 1 1 1 1 1 1 1 1 1 1 1 1 1\n",
            " 1 1 1 1 1 1 1 1 1 1 1 1 1 1 1 1 1 1 1 1 1 2 2 2 2 2 2 2 2 2 2 2 2 2 2 2 2\n",
            " 2 2 2 2 2 2 2 2 2 2 2 2 2 2 2 2 2 2 2 2 2 2 2 2 2 2 2 2 2 2 2 2 2 2 2 2 2\n",
            " 2 2 2 2 2 2 2 2 2 2 2 2 2 2 2 2 2 2 2 2 2 2 2 2 2 2 2 2 2 2 2 2 2 2 2 2 2\n",
            " 2 2 2 2 2 2 2 2 2 2 2 3 3 3 3 3 3 3 3 3 3 3 3 3 3 3 3 3 3 3 3 3 3 3 3 3 3\n",
            " 3 3 3 3]\n"
          ]
        }
      ],
      "source": [
        "true_labels = np.argmax(all_true_labels, axis=1)\n",
        "print(true_labels)"
      ]
    },
    {
      "cell_type": "code",
      "execution_count": null,
      "metadata": {
        "id": "NmjvVBJgPk8Q"
      },
      "outputs": [],
      "source": [
        "accuracy = np.mean(np.equal(predicted_labels, true_labels))\n",
        "accuracy_percentage = accuracy * 100"
      ]
    },
    {
      "cell_type": "code",
      "execution_count": null,
      "metadata": {
        "colab": {
          "base_uri": "https://localhost:8080/"
        },
        "id": "CP9IUUP6PmPL",
        "outputId": "9becebea-2713-4229-f1b1-f1ee707ecc59"
      },
      "outputs": [
        {
          "output_type": "stream",
          "name": "stdout",
          "text": [
            "Accuracy: 57.58928571428571 %\n"
          ]
        }
      ],
      "source": [
        "print(\"Accuracy:\", accuracy_percentage, \"%\")"
      ]
    }
  ],
  "metadata": {
    "accelerator": "GPU",
    "colab": {
      "provenance": []
    },
    "kernelspec": {
      "display_name": "Python 3",
      "name": "python3"
    },
    "language_info": {
      "name": "python"
    }
  },
  "nbformat": 4,
  "nbformat_minor": 0
}

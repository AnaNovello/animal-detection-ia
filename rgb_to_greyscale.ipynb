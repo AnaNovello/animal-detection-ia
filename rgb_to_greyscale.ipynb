{
  "nbformat": 4,
  "nbformat_minor": 0,
  "metadata": {
    "colab": {
      "provenance": []
    },
    "kernelspec": {
      "name": "python3",
      "display_name": "Python 3"
    },
    "language_info": {
      "name": "python"
    }
  },
  "cells": [
    {
      "cell_type": "code",
      "execution_count": null,
      "metadata": {
        "id": "V2upiQsqxTsa"
      },
      "outputs": [],
      "source": [
        "import pathlib\n",
        "from PIL import Image\n",
        "import matplotlib.pyplot as plt"
      ]
    },
    {
      "cell_type": "code",
      "source": [
        "from google.colab import drive\n",
        "drive.mount('/content/drive/')"
      ],
      "metadata": {
        "colab": {
          "base_uri": "https://localhost:8080/"
        },
        "id": "j376j8LUzo31",
        "outputId": "fb44bff0-2f33-44ba-b224-ac7108c0e926"
      },
      "execution_count": null,
      "outputs": [
        {
          "output_type": "stream",
          "name": "stdout",
          "text": [
            "Mounted at /content/drive/\n"
          ]
        }
      ]
    },
    {
      "cell_type": "code",
      "source": [
        "data_dir = pathlib.Path('/content/drive/MyDrive/TEIA/Validacao/Cachorro')\n",
        "destino = pathlib.Path('/content/drive/MyDrive/TEIA/Validacao/Cachorro/VCachorro_gray')\n"
      ],
      "metadata": {
        "id": "jzOXunwlzRRt"
      },
      "execution_count": null,
      "outputs": []
    },
    {
      "cell_type": "code",
      "source": [
        "i = 1\n",
        "for labels in data_dir.glob('**/*.jpg'):\n",
        "    img = Image.open(labels).convert('L')\n",
        "    greyscale = str(destino) + '/Cachorro' + str(i) + '.png'\n",
        "    i += 1\n",
        "    print(greyscale)\n",
        "    img.save(greyscale)"
      ],
      "metadata": {
        "colab": {
          "base_uri": "https://localhost:8080/"
        },
        "id": "Yf0LcW-c2eCk",
        "outputId": "45a8ee5f-3089-4a9c-b604-3378d3f10e9e"
      },
      "execution_count": null,
      "outputs": [
        {
          "output_type": "stream",
          "name": "stdout",
          "text": [
            "/content/drive/MyDrive/TEIA/Validacao/Cachorro/VCachorro_gray/Cachorro1.png\n",
            "/content/drive/MyDrive/TEIA/Validacao/Cachorro/VCachorro_gray/Cachorro2.png\n",
            "/content/drive/MyDrive/TEIA/Validacao/Cachorro/VCachorro_gray/Cachorro3.png\n",
            "/content/drive/MyDrive/TEIA/Validacao/Cachorro/VCachorro_gray/Cachorro4.png\n",
            "/content/drive/MyDrive/TEIA/Validacao/Cachorro/VCachorro_gray/Cachorro5.png\n",
            "/content/drive/MyDrive/TEIA/Validacao/Cachorro/VCachorro_gray/Cachorro6.png\n",
            "/content/drive/MyDrive/TEIA/Validacao/Cachorro/VCachorro_gray/Cachorro7.png\n",
            "/content/drive/MyDrive/TEIA/Validacao/Cachorro/VCachorro_gray/Cachorro8.png\n",
            "/content/drive/MyDrive/TEIA/Validacao/Cachorro/VCachorro_gray/Cachorro9.png\n",
            "/content/drive/MyDrive/TEIA/Validacao/Cachorro/VCachorro_gray/Cachorro10.png\n",
            "/content/drive/MyDrive/TEIA/Validacao/Cachorro/VCachorro_gray/Cachorro11.png\n",
            "/content/drive/MyDrive/TEIA/Validacao/Cachorro/VCachorro_gray/Cachorro12.png\n",
            "/content/drive/MyDrive/TEIA/Validacao/Cachorro/VCachorro_gray/Cachorro13.png\n",
            "/content/drive/MyDrive/TEIA/Validacao/Cachorro/VCachorro_gray/Cachorro14.png\n",
            "/content/drive/MyDrive/TEIA/Validacao/Cachorro/VCachorro_gray/Cachorro15.png\n",
            "/content/drive/MyDrive/TEIA/Validacao/Cachorro/VCachorro_gray/Cachorro16.png\n",
            "/content/drive/MyDrive/TEIA/Validacao/Cachorro/VCachorro_gray/Cachorro17.png\n",
            "/content/drive/MyDrive/TEIA/Validacao/Cachorro/VCachorro_gray/Cachorro18.png\n",
            "/content/drive/MyDrive/TEIA/Validacao/Cachorro/VCachorro_gray/Cachorro19.png\n",
            "/content/drive/MyDrive/TEIA/Validacao/Cachorro/VCachorro_gray/Cachorro20.png\n",
            "/content/drive/MyDrive/TEIA/Validacao/Cachorro/VCachorro_gray/Cachorro21.png\n",
            "/content/drive/MyDrive/TEIA/Validacao/Cachorro/VCachorro_gray/Cachorro22.png\n",
            "/content/drive/MyDrive/TEIA/Validacao/Cachorro/VCachorro_gray/Cachorro23.png\n",
            "/content/drive/MyDrive/TEIA/Validacao/Cachorro/VCachorro_gray/Cachorro24.png\n",
            "/content/drive/MyDrive/TEIA/Validacao/Cachorro/VCachorro_gray/Cachorro25.png\n",
            "/content/drive/MyDrive/TEIA/Validacao/Cachorro/VCachorro_gray/Cachorro26.png\n",
            "/content/drive/MyDrive/TEIA/Validacao/Cachorro/VCachorro_gray/Cachorro27.png\n",
            "/content/drive/MyDrive/TEIA/Validacao/Cachorro/VCachorro_gray/Cachorro28.png\n",
            "/content/drive/MyDrive/TEIA/Validacao/Cachorro/VCachorro_gray/Cachorro29.png\n",
            "/content/drive/MyDrive/TEIA/Validacao/Cachorro/VCachorro_gray/Cachorro30.png\n",
            "/content/drive/MyDrive/TEIA/Validacao/Cachorro/VCachorro_gray/Cachorro31.png\n",
            "/content/drive/MyDrive/TEIA/Validacao/Cachorro/VCachorro_gray/Cachorro32.png\n",
            "/content/drive/MyDrive/TEIA/Validacao/Cachorro/VCachorro_gray/Cachorro33.png\n",
            "/content/drive/MyDrive/TEIA/Validacao/Cachorro/VCachorro_gray/Cachorro34.png\n",
            "/content/drive/MyDrive/TEIA/Validacao/Cachorro/VCachorro_gray/Cachorro35.png\n",
            "/content/drive/MyDrive/TEIA/Validacao/Cachorro/VCachorro_gray/Cachorro36.png\n",
            "/content/drive/MyDrive/TEIA/Validacao/Cachorro/VCachorro_gray/Cachorro37.png\n",
            "/content/drive/MyDrive/TEIA/Validacao/Cachorro/VCachorro_gray/Cachorro38.png\n",
            "/content/drive/MyDrive/TEIA/Validacao/Cachorro/VCachorro_gray/Cachorro39.png\n",
            "/content/drive/MyDrive/TEIA/Validacao/Cachorro/VCachorro_gray/Cachorro40.png\n",
            "/content/drive/MyDrive/TEIA/Validacao/Cachorro/VCachorro_gray/Cachorro41.png\n",
            "/content/drive/MyDrive/TEIA/Validacao/Cachorro/VCachorro_gray/Cachorro42.png\n",
            "/content/drive/MyDrive/TEIA/Validacao/Cachorro/VCachorro_gray/Cachorro43.png\n",
            "/content/drive/MyDrive/TEIA/Validacao/Cachorro/VCachorro_gray/Cachorro44.png\n",
            "/content/drive/MyDrive/TEIA/Validacao/Cachorro/VCachorro_gray/Cachorro45.png\n",
            "/content/drive/MyDrive/TEIA/Validacao/Cachorro/VCachorro_gray/Cachorro46.png\n",
            "/content/drive/MyDrive/TEIA/Validacao/Cachorro/VCachorro_gray/Cachorro47.png\n",
            "/content/drive/MyDrive/TEIA/Validacao/Cachorro/VCachorro_gray/Cachorro48.png\n",
            "/content/drive/MyDrive/TEIA/Validacao/Cachorro/VCachorro_gray/Cachorro49.png\n",
            "/content/drive/MyDrive/TEIA/Validacao/Cachorro/VCachorro_gray/Cachorro50.png\n",
            "/content/drive/MyDrive/TEIA/Validacao/Cachorro/VCachorro_gray/Cachorro51.png\n",
            "/content/drive/MyDrive/TEIA/Validacao/Cachorro/VCachorro_gray/Cachorro52.png\n",
            "/content/drive/MyDrive/TEIA/Validacao/Cachorro/VCachorro_gray/Cachorro53.png\n",
            "/content/drive/MyDrive/TEIA/Validacao/Cachorro/VCachorro_gray/Cachorro54.png\n",
            "/content/drive/MyDrive/TEIA/Validacao/Cachorro/VCachorro_gray/Cachorro55.png\n",
            "/content/drive/MyDrive/TEIA/Validacao/Cachorro/VCachorro_gray/Cachorro56.png\n",
            "/content/drive/MyDrive/TEIA/Validacao/Cachorro/VCachorro_gray/Cachorro57.png\n",
            "/content/drive/MyDrive/TEIA/Validacao/Cachorro/VCachorro_gray/Cachorro58.png\n",
            "/content/drive/MyDrive/TEIA/Validacao/Cachorro/VCachorro_gray/Cachorro59.png\n",
            "/content/drive/MyDrive/TEIA/Validacao/Cachorro/VCachorro_gray/Cachorro60.png\n",
            "/content/drive/MyDrive/TEIA/Validacao/Cachorro/VCachorro_gray/Cachorro61.png\n",
            "/content/drive/MyDrive/TEIA/Validacao/Cachorro/VCachorro_gray/Cachorro62.png\n",
            "/content/drive/MyDrive/TEIA/Validacao/Cachorro/VCachorro_gray/Cachorro63.png\n",
            "/content/drive/MyDrive/TEIA/Validacao/Cachorro/VCachorro_gray/Cachorro64.png\n",
            "/content/drive/MyDrive/TEIA/Validacao/Cachorro/VCachorro_gray/Cachorro65.png\n",
            "/content/drive/MyDrive/TEIA/Validacao/Cachorro/VCachorro_gray/Cachorro66.png\n",
            "/content/drive/MyDrive/TEIA/Validacao/Cachorro/VCachorro_gray/Cachorro67.png\n",
            "/content/drive/MyDrive/TEIA/Validacao/Cachorro/VCachorro_gray/Cachorro68.png\n",
            "/content/drive/MyDrive/TEIA/Validacao/Cachorro/VCachorro_gray/Cachorro69.png\n",
            "/content/drive/MyDrive/TEIA/Validacao/Cachorro/VCachorro_gray/Cachorro70.png\n",
            "/content/drive/MyDrive/TEIA/Validacao/Cachorro/VCachorro_gray/Cachorro71.png\n",
            "/content/drive/MyDrive/TEIA/Validacao/Cachorro/VCachorro_gray/Cachorro72.png\n",
            "/content/drive/MyDrive/TEIA/Validacao/Cachorro/VCachorro_gray/Cachorro73.png\n",
            "/content/drive/MyDrive/TEIA/Validacao/Cachorro/VCachorro_gray/Cachorro74.png\n",
            "/content/drive/MyDrive/TEIA/Validacao/Cachorro/VCachorro_gray/Cachorro75.png\n",
            "/content/drive/MyDrive/TEIA/Validacao/Cachorro/VCachorro_gray/Cachorro76.png\n",
            "/content/drive/MyDrive/TEIA/Validacao/Cachorro/VCachorro_gray/Cachorro77.png\n",
            "/content/drive/MyDrive/TEIA/Validacao/Cachorro/VCachorro_gray/Cachorro78.png\n",
            "/content/drive/MyDrive/TEIA/Validacao/Cachorro/VCachorro_gray/Cachorro79.png\n",
            "/content/drive/MyDrive/TEIA/Validacao/Cachorro/VCachorro_gray/Cachorro80.png\n",
            "/content/drive/MyDrive/TEIA/Validacao/Cachorro/VCachorro_gray/Cachorro81.png\n",
            "/content/drive/MyDrive/TEIA/Validacao/Cachorro/VCachorro_gray/Cachorro82.png\n",
            "/content/drive/MyDrive/TEIA/Validacao/Cachorro/VCachorro_gray/Cachorro83.png\n",
            "/content/drive/MyDrive/TEIA/Validacao/Cachorro/VCachorro_gray/Cachorro84.png\n",
            "/content/drive/MyDrive/TEIA/Validacao/Cachorro/VCachorro_gray/Cachorro85.png\n",
            "/content/drive/MyDrive/TEIA/Validacao/Cachorro/VCachorro_gray/Cachorro86.png\n",
            "/content/drive/MyDrive/TEIA/Validacao/Cachorro/VCachorro_gray/Cachorro87.png\n",
            "/content/drive/MyDrive/TEIA/Validacao/Cachorro/VCachorro_gray/Cachorro88.png\n",
            "/content/drive/MyDrive/TEIA/Validacao/Cachorro/VCachorro_gray/Cachorro89.png\n",
            "/content/drive/MyDrive/TEIA/Validacao/Cachorro/VCachorro_gray/Cachorro90.png\n",
            "/content/drive/MyDrive/TEIA/Validacao/Cachorro/VCachorro_gray/Cachorro91.png\n",
            "/content/drive/MyDrive/TEIA/Validacao/Cachorro/VCachorro_gray/Cachorro92.png\n",
            "/content/drive/MyDrive/TEIA/Validacao/Cachorro/VCachorro_gray/Cachorro93.png\n",
            "/content/drive/MyDrive/TEIA/Validacao/Cachorro/VCachorro_gray/Cachorro94.png\n",
            "/content/drive/MyDrive/TEIA/Validacao/Cachorro/VCachorro_gray/Cachorro95.png\n",
            "/content/drive/MyDrive/TEIA/Validacao/Cachorro/VCachorro_gray/Cachorro96.png\n",
            "/content/drive/MyDrive/TEIA/Validacao/Cachorro/VCachorro_gray/Cachorro97.png\n",
            "/content/drive/MyDrive/TEIA/Validacao/Cachorro/VCachorro_gray/Cachorro98.png\n",
            "/content/drive/MyDrive/TEIA/Validacao/Cachorro/VCachorro_gray/Cachorro99.png\n",
            "/content/drive/MyDrive/TEIA/Validacao/Cachorro/VCachorro_gray/Cachorro100.png\n",
            "/content/drive/MyDrive/TEIA/Validacao/Cachorro/VCachorro_gray/Cachorro101.png\n"
          ]
        }
      ]
    }
  ]
}
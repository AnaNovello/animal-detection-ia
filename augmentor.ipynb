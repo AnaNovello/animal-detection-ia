{
  "cells": [
    {
      "cell_type": "code",
      "execution_count": null,
      "metadata": {
        "colab": {
          "base_uri": "https://localhost:8080/"
        },
        "id": "ApZ2xa_Xhm_P",
        "outputId": "173b8ea8-6ace-4cfc-9944-bfa71a723cd9"
      },
      "outputs": [
        {
          "output_type": "stream",
          "name": "stdout",
          "text": [
            "Requirement already satisfied: Augmentor in /usr/local/lib/python3.10/dist-packages (0.2.12)\n",
            "Requirement already satisfied: Pillow>=5.2.0 in /usr/local/lib/python3.10/dist-packages (from Augmentor) (9.4.0)\n",
            "Requirement already satisfied: tqdm>=4.9.0 in /usr/local/lib/python3.10/dist-packages (from Augmentor) (4.66.1)\n",
            "Requirement already satisfied: numpy>=1.11.0 in /usr/local/lib/python3.10/dist-packages (from Augmentor) (1.23.5)\n"
          ]
        }
      ],
      "source": [
        "pip install Augmentor"
      ]
    },
    {
      "cell_type": "code",
      "source": [
        "import Augmentor"
      ],
      "metadata": {
        "id": "vRh9id7H8Oha"
      },
      "execution_count": null,
      "outputs": []
    },
    {
      "cell_type": "code",
      "source": [
        "from google.colab import drive\n",
        "drive.mount('/content/drive/')"
      ],
      "metadata": {
        "id": "U0wv5Izc6lEN",
        "colab": {
          "base_uri": "https://localhost:8080/"
        },
        "outputId": "b8b8ae7d-f9ec-4fad-d56d-712f939bc54c"
      },
      "execution_count": null,
      "outputs": [
        {
          "output_type": "stream",
          "name": "stdout",
          "text": [
            "Drive already mounted at /content/drive/; to attempt to forcibly remount, call drive.mount(\"/content/drive/\", force_remount=True).\n"
          ]
        }
      ]
    },
    {
      "cell_type": "code",
      "execution_count": null,
      "metadata": {
        "colab": {
          "base_uri": "https://localhost:8080/"
        },
        "id": "m2bkIn-JlqPK",
        "outputId": "ef98c0ce-d40e-4d6e-d643-db6714f84949"
      },
      "outputs": [
        {
          "output_type": "stream",
          "name": "stdout",
          "text": [
            "Initialised with 96 image(s) found.\n",
            "Output directory set to /content/drive/MyDrive/TEIA/Treino/com_cores/Onca/output.Initialised with 791 image(s) found.\n",
            "Output directory set to /content/drive/MyDrive/TEIA/Treino/com_cores/Cobra/output.Initialised with 197 image(s) found.\n",
            "Output directory set to /content/drive/MyDrive/TEIA/Treino/com_cores/Cachorro/output.Initialised with 197 image(s) found.\n",
            "Output directory set to /content/drive/MyDrive/TEIA/Treino/com_cores/Gato/output."
          ]
        }
      ],
      "source": [
        "aug_onca = Augmentor.Pipeline(\"/content/drive/MyDrive/TEIA/Treino/com_cores/Onca/\")\n",
        "aug_cobra = Augmentor.Pipeline(\"/content/drive/MyDrive/TEIA/Treino/com_cores/Cobra/\")\n",
        "aug_cachorro = Augmentor.Pipeline(\"/content/drive/MyDrive/TEIA/Treino/com_cores/Cachorro/\")\n",
        "aug_gato = Augmentor.Pipeline(\"/content/drive/MyDrive/TEIA/Treino/com_cores/Gato/\")\n"
      ]
    },
    {
      "cell_type": "code",
      "source": [
        "aug_onca.resize(1, 224, 224)\n",
        "aug_cobra.resize(1, 224, 224)\n",
        "aug_cachorro.resize(1, 224, 224)\n",
        "aug_gato.resize(1, 224, 224)"
      ],
      "metadata": {
        "id": "rlrHjoWjiyXR"
      },
      "execution_count": null,
      "outputs": []
    },
    {
      "cell_type": "code",
      "execution_count": null,
      "metadata": {
        "id": "kZJiEUoomrXo",
        "colab": {
          "base_uri": "https://localhost:8080/"
        },
        "outputId": "073013e3-054f-463c-cef3-bf691cc534e8"
      },
      "outputs": [
        {
          "output_type": "stream",
          "name": "stderr",
          "text": [
            "Processing <PIL.Image.Image image mode=RGB size=384x216 at 0x7AD7876CED70>: 100%|██████████| 291/291 [00:15<00:00, 18.70 Samples/s]\n",
            "Processing <PIL.Image.Image image mode=RGB size=384x216 at 0x7AD7876CD0C0>: 100%|██████████| 96/96 [00:03<00:00, 25.07 Samples/s]\n",
            "Processing <PIL.Image.Image image mode=RGB size=384x216 at 0x7AD784213490>: 100%|██████████| 2373/2373 [01:47<00:00, 22.12 Samples/s]\n",
            "Processing <PIL.Image.Image image mode=RGB size=384x216 at 0x7AD7844ED4E0>: 100%|██████████| 791/791 [00:34<00:00, 22.90 Samples/s]\n",
            "Processing <PIL.Image.Image image mode=RGB size=384x216 at 0x7AD7843C3DC0>: 100%|██████████| 591/591 [00:18<00:00, 32.39 Samples/s]\n",
            "Processing <PIL.Image.Image image mode=RGB size=384x216 at 0x7AD78436E320>: 100%|██████████| 197/197 [00:05<00:00, 36.82 Samples/s]\n",
            "Processing <PIL.Image.Image image mode=RGB size=384x216 at 0x7AD7844ED390>: 100%|██████████| 591/591 [00:17<00:00, 32.98 Samples/s]\n",
            "Processing <PIL.Image.Image image mode=RGB size=384x216 at 0x7AD784323A30>: 100%|██████████| 197/197 [00:04<00:00, 40.51 Samples/s]\n"
          ]
        }
      ],
      "source": [
        "aug_onca.rotate(probability=0.7, max_left_rotation=10, max_right_rotation=10)\n",
        "aug_onca.zoom(probability=0.5, min_factor=1.1, max_factor=1.5)\n",
        "aug_onca.flip_left_right(probability=0.5)\n",
        "aug_onca.sample(291)\n",
        "aug_onca.process()\n",
        "\n",
        "aug_cobra.rotate(probability=0.7, max_left_rotation=10, max_right_rotation=10)\n",
        "aug_cobra.zoom(probability=0.5, min_factor=1.1, max_factor=1.5)\n",
        "aug_cobra.flip_left_right(probability=0.5)\n",
        "aug_cobra.sample(2373)\n",
        "aug_cobra.process()\n",
        "\n",
        "aug_cachorro.rotate(probability=0.7, max_left_rotation=10, max_right_rotation=10)\n",
        "aug_cachorro.zoom(probability=0.5, min_factor=1.1, max_factor=1.5)\n",
        "aug_cachorro.flip_left_right(probability=0.5)\n",
        "aug_cachorro.sample(591)\n",
        "aug_cachorro.process()\n",
        "\n",
        "aug_gato.rotate(probability=0.7, max_left_rotation=10, max_right_rotation=10)\n",
        "aug_gato.zoom(probability=0.5, min_factor=1.1, max_factor=1.5)\n",
        "aug_gato.flip_left_right(probability=0.5)\n",
        "aug_gato.sample(591)\n",
        "aug_gato.process()"
      ]
    }
  ],
  "metadata": {
    "colab": {
      "provenance": []
    },
    "kernelspec": {
      "display_name": "Python 3",
      "name": "python3"
    },
    "language_info": {
      "name": "python"
    }
  },
  "nbformat": 4,
  "nbformat_minor": 0
}